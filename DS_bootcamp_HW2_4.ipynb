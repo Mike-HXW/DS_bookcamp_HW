{
 "cells": [
  {
   "cell_type": "code",
   "execution_count": 17,
   "id": "b53c2f01",
   "metadata": {},
   "outputs": [
    {
     "data": {
      "text/plain": [
       "array([[51, 95, 95, 59],\n",
       "       [23, 17,  5, 42],\n",
       "       [16,  8, 59, 51],\n",
       "       [45,  2, 47, 76]])"
      ]
     },
     "execution_count": 17,
     "metadata": {},
     "output_type": "execute_result"
    }
   ],
   "source": [
    "# 4)Create a 4x4 NumPy array filled with random integers between 1 and 100. \n",
    "# Then, reshape this array into two separate 2D arrays, where one represents the rows \n",
    "# and the other represents the columns. Write a function, \n",
    "# preferably using a lambda function, to calculate the sum of each row and each column separately, \n",
    "# and return the results as two separate NumPy arrays\n",
    "\n",
    "import numpy as np\n",
    "\n",
    "arr = np.random.randint(1, 101, (4, 4))\n",
    "arr"
   ]
  },
  {
   "cell_type": "code",
   "execution_count": 18,
   "id": "c74e23ef",
   "metadata": {},
   "outputs": [
    {
     "data": {
      "text/plain": [
       "array([[51, 95, 95, 59],\n",
       "       [23, 17,  5, 42],\n",
       "       [16,  8, 59, 51],\n",
       "       [45,  2, 47, 76]])"
      ]
     },
     "execution_count": 18,
     "metadata": {},
     "output_type": "execute_result"
    }
   ],
   "source": [
    "arr_row = arr.reshape(4,4)\n",
    "arr_row"
   ]
  },
  {
   "cell_type": "code",
   "execution_count": 19,
   "id": "bf3edfe3",
   "metadata": {},
   "outputs": [
    {
     "data": {
      "text/plain": [
       "array([[51, 23, 16, 45],\n",
       "       [95, 17,  8,  2],\n",
       "       [95,  5, 59, 47],\n",
       "       [59, 42, 51, 76]])"
      ]
     },
     "execution_count": 19,
     "metadata": {},
     "output_type": "execute_result"
    }
   ],
   "source": [
    "arr_col = arr.T.reshape(4,4)\n",
    "arr_col"
   ]
  },
  {
   "cell_type": "code",
   "execution_count": 20,
   "id": "cb6a72d2",
   "metadata": {},
   "outputs": [
    {
     "data": {
      "text/plain": [
       "array([300,  87, 134, 170])"
      ]
     },
     "execution_count": 20,
     "metadata": {},
     "output_type": "execute_result"
    }
   ],
   "source": [
    "sum_rows = np.apply_along_axis(lambda x: np.sum(x), axis=1, arr=arr_row)\n",
    "sum_rows"
   ]
  },
  {
   "cell_type": "code",
   "execution_count": 21,
   "id": "554c659d",
   "metadata": {},
   "outputs": [
    {
     "data": {
      "text/plain": [
       "array([135, 122, 206, 228])"
      ]
     },
     "execution_count": 21,
     "metadata": {},
     "output_type": "execute_result"
    }
   ],
   "source": [
    "sum_columns = np.apply_along_axis(lambda x: np.sum(x), axis=1, arr=arr_col)\n",
    "sum_columns"
   ]
  }
 ],
 "metadata": {
  "kernelspec": {
   "display_name": "Python 3 (ipykernel)",
   "language": "python",
   "name": "python3"
  },
  "language_info": {
   "codemirror_mode": {
    "name": "ipython",
    "version": 3
   },
   "file_extension": ".py",
   "mimetype": "text/x-python",
   "name": "python",
   "nbconvert_exporter": "python",
   "pygments_lexer": "ipython3",
   "version": "3.9.12"
  }
 },
 "nbformat": 4,
 "nbformat_minor": 5
}
